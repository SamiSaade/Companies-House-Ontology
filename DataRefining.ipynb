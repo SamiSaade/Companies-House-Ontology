{
 "cells": [
  {
   "cell_type": "markdown",
   "metadata": {},
   "source": [
    "## Data Refinement:\n",
    "#### In this notebook, the dataset is filtered and cleaned. A pickle file is generated with the final needed columns and filtered rows.\n",
    "#### The dataset is obtained from the Company House Directory on the Government website https://download.companieshouse.gov.uk/en_output.html under CC0: creative commons accoridng to Companies Act 2006"
   ]
  },
  {
   "cell_type": "code",
   "execution_count": 1,
   "metadata": {},
   "outputs": [],
   "source": [
    "import pandas as pd"
   ]
  },
  {
   "cell_type": "code",
   "execution_count": 2,
   "metadata": {},
   "outputs": [],
   "source": [
    "source = \"BasicCompanyDataAsOneFile-2024-05-01.csv\"\n",
    "chunk = pd.read_csv(source,chunksize=2000)\n",
    "fulldata = pd.concat(chunk)"
   ]
  },
  {
   "cell_type": "code",
   "execution_count": 3,
   "metadata": {},
   "outputs": [
    {
     "data": {
      "text/plain": [
       "Index(['CompanyName', ' CompanyNumber', 'RegAddress.CareOf',\n",
       "       'RegAddress.POBox', 'RegAddress.AddressLine1',\n",
       "       ' RegAddress.AddressLine2', 'RegAddress.PostTown', 'RegAddress.County',\n",
       "       'RegAddress.Country', 'RegAddress.PostCode', 'CompanyCategory',\n",
       "       'CompanyStatus', 'CountryOfOrigin', 'DissolutionDate',\n",
       "       'IncorporationDate', 'Accounts.AccountRefDay',\n",
       "       'Accounts.AccountRefMonth', 'Accounts.NextDueDate',\n",
       "       'Accounts.LastMadeUpDate', 'Accounts.AccountCategory',\n",
       "       'Returns.NextDueDate', 'Returns.LastMadeUpDate',\n",
       "       'Mortgages.NumMortCharges', 'Mortgages.NumMortOutstanding',\n",
       "       'Mortgages.NumMortPartSatisfied', 'Mortgages.NumMortSatisfied',\n",
       "       'SICCode.SicText_1', 'SICCode.SicText_2', 'SICCode.SicText_3',\n",
       "       'SICCode.SicText_4', 'LimitedPartnerships.NumGenPartners',\n",
       "       'LimitedPartnerships.NumLimPartners', 'URI', 'PreviousName_1.CONDATE',\n",
       "       ' PreviousName_1.CompanyName', ' PreviousName_2.CONDATE',\n",
       "       ' PreviousName_2.CompanyName', 'PreviousName_3.CONDATE',\n",
       "       ' PreviousName_3.CompanyName', 'PreviousName_4.CONDATE',\n",
       "       ' PreviousName_4.CompanyName', 'PreviousName_5.CONDATE',\n",
       "       ' PreviousName_5.CompanyName', 'PreviousName_6.CONDATE',\n",
       "       ' PreviousName_6.CompanyName', 'PreviousName_7.CONDATE',\n",
       "       ' PreviousName_7.CompanyName', 'PreviousName_8.CONDATE',\n",
       "       ' PreviousName_8.CompanyName', 'PreviousName_9.CONDATE',\n",
       "       ' PreviousName_9.CompanyName', 'PreviousName_10.CONDATE',\n",
       "       ' PreviousName_10.CompanyName', 'ConfStmtNextDueDate',\n",
       "       ' ConfStmtLastMadeUpDate'],\n",
       "      dtype='object')"
      ]
     },
     "execution_count": 3,
     "metadata": {},
     "output_type": "execute_result"
    }
   ],
   "source": [
    "fulldata.columns\n"
   ]
  },
  {
   "cell_type": "code",
   "execution_count": 24,
   "metadata": {},
   "outputs": [],
   "source": [
    "dataRefined = fulldata[[' CompanyNumber']]\n",
    "dataRefined.to_pickle('CompanyIDList.pkl')\n"
   ]
  }
 ],
 "metadata": {
  "kernelspec": {
   "display_name": "Python 3",
   "language": "python",
   "name": "python3"
  },
  "language_info": {
   "codemirror_mode": {
    "name": "ipython",
    "version": 3
   },
   "file_extension": ".py",
   "mimetype": "text/x-python",
   "name": "python",
   "nbconvert_exporter": "python",
   "pygments_lexer": "ipython3",
   "version": "3.12.2"
  }
 },
 "nbformat": 4,
 "nbformat_minor": 2
}
